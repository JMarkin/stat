{
 "cells": [
  {
   "cell_type": "code",
   "execution_count": 24,
   "metadata": {},
   "outputs": [],
   "source": [
    "import numpy as np\n",
    "import pandas as pd\n",
    "import matplotlib.pyplot as plt\n",
    "from statsmodels.graphics.tsaplots import plot_acf\n",
    "%matplotlib inline"
   ]
  },
  {
   "cell_type": "markdown",
   "metadata": {},
   "source": [
    "##### Расматриваем два датасета\n",
    "- Продажа пива рф с 1995-2009 год data.csv\n",
    "- Просто рандомно вбитые цифры data2.csv"
   ]
  },
  {
   "cell_type": "code",
   "execution_count": 25,
   "metadata": {},
   "outputs": [
    {
     "data": {
      "text/html": [
       "<div>\n",
       "<style scoped>\n",
       "    .dataframe tbody tr th:only-of-type {\n",
       "        vertical-align: middle;\n",
       "    }\n",
       "\n",
       "    .dataframe tbody tr th {\n",
       "        vertical-align: top;\n",
       "    }\n",
       "\n",
       "    .dataframe thead th {\n",
       "        text-align: right;\n",
       "    }\n",
       "</style>\n",
       "<table border=\"1\" class=\"dataframe\">\n",
       "  <thead>\n",
       "    <tr style=\"text-align: right;\">\n",
       "      <th></th>\n",
       "      <th>Год</th>\n",
       "      <th>t</th>\n",
       "      <th>Объем</th>\n",
       "    </tr>\n",
       "  </thead>\n",
       "  <tbody>\n",
       "    <tr>\n",
       "      <th>0</th>\n",
       "      <td>1995</td>\n",
       "      <td>1</td>\n",
       "      <td>358.00</td>\n",
       "    </tr>\n",
       "    <tr>\n",
       "      <th>1</th>\n",
       "      <td>1996</td>\n",
       "      <td>2</td>\n",
       "      <td>384.85</td>\n",
       "    </tr>\n",
       "    <tr>\n",
       "      <th>2</th>\n",
       "      <td>1997</td>\n",
       "      <td>3</td>\n",
       "      <td>411.70</td>\n",
       "    </tr>\n",
       "    <tr>\n",
       "      <th>3</th>\n",
       "      <td>1998</td>\n",
       "      <td>4</td>\n",
       "      <td>408.20</td>\n",
       "    </tr>\n",
       "    <tr>\n",
       "      <th>4</th>\n",
       "      <td>1999</td>\n",
       "      <td>5</td>\n",
       "      <td>451.10</td>\n",
       "    </tr>\n",
       "    <tr>\n",
       "      <th>5</th>\n",
       "      <td>2000</td>\n",
       "      <td>6</td>\n",
       "      <td>524.60</td>\n",
       "    </tr>\n",
       "    <tr>\n",
       "      <th>6</th>\n",
       "      <td>2001</td>\n",
       "      <td>7</td>\n",
       "      <td>634.60</td>\n",
       "    </tr>\n",
       "    <tr>\n",
       "      <th>7</th>\n",
       "      <td>2002</td>\n",
       "      <td>8</td>\n",
       "      <td>707.80</td>\n",
       "    </tr>\n",
       "    <tr>\n",
       "      <th>8</th>\n",
       "      <td>2003</td>\n",
       "      <td>9</td>\n",
       "      <td>762.50</td>\n",
       "    </tr>\n",
       "    <tr>\n",
       "      <th>9</th>\n",
       "      <td>2004</td>\n",
       "      <td>10</td>\n",
       "      <td>844.70</td>\n",
       "    </tr>\n",
       "    <tr>\n",
       "      <th>10</th>\n",
       "      <td>2005</td>\n",
       "      <td>11</td>\n",
       "      <td>892.10</td>\n",
       "    </tr>\n",
       "    <tr>\n",
       "      <th>11</th>\n",
       "      <td>2006</td>\n",
       "      <td>12</td>\n",
       "      <td>1002.80</td>\n",
       "    </tr>\n",
       "    <tr>\n",
       "      <th>12</th>\n",
       "      <td>2007</td>\n",
       "      <td>13</td>\n",
       "      <td>1153.30</td>\n",
       "    </tr>\n",
       "    <tr>\n",
       "      <th>13</th>\n",
       "      <td>2008</td>\n",
       "      <td>14</td>\n",
       "      <td>1138.20</td>\n",
       "    </tr>\n",
       "    <tr>\n",
       "      <th>14</th>\n",
       "      <td>2009</td>\n",
       "      <td>15</td>\n",
       "      <td>1097.70</td>\n",
       "    </tr>\n",
       "  </tbody>\n",
       "</table>\n",
       "</div>"
      ],
      "text/plain": [
       "     Год   t    Объем\n",
       "0   1995   1   358.00\n",
       "1   1996   2   384.85\n",
       "2   1997   3   411.70\n",
       "3   1998   4   408.20\n",
       "4   1999   5   451.10\n",
       "5   2000   6   524.60\n",
       "6   2001   7   634.60\n",
       "7   2002   8   707.80\n",
       "8   2003   9   762.50\n",
       "9   2004  10   844.70\n",
       "10  2005  11   892.10\n",
       "11  2006  12  1002.80\n",
       "12  2007  13  1153.30\n",
       "13  2008  14  1138.20\n",
       "14  2009  15  1097.70"
      ]
     },
     "execution_count": 25,
     "metadata": {},
     "output_type": "execute_result"
    }
   ],
   "source": [
    "# Продажа пива\n",
    "df = pd.read_csv('data.csv', sep=';')\n",
    "df"
   ]
  },
  {
   "cell_type": "code",
   "execution_count": 26,
   "metadata": {},
   "outputs": [
    {
     "data": {
      "text/html": [
       "<div>\n",
       "<style scoped>\n",
       "    .dataframe tbody tr th:only-of-type {\n",
       "        vertical-align: middle;\n",
       "    }\n",
       "\n",
       "    .dataframe tbody tr th {\n",
       "        vertical-align: top;\n",
       "    }\n",
       "\n",
       "    .dataframe thead th {\n",
       "        text-align: right;\n",
       "    }\n",
       "</style>\n",
       "<table border=\"1\" class=\"dataframe\">\n",
       "  <thead>\n",
       "    <tr style=\"text-align: right;\">\n",
       "      <th></th>\n",
       "      <th>t</th>\n",
       "      <th>yt</th>\n",
       "    </tr>\n",
       "  </thead>\n",
       "  <tbody>\n",
       "    <tr>\n",
       "      <th>0</th>\n",
       "      <td>1</td>\n",
       "      <td>5.6</td>\n",
       "    </tr>\n",
       "    <tr>\n",
       "      <th>1</th>\n",
       "      <td>2</td>\n",
       "      <td>4.7</td>\n",
       "    </tr>\n",
       "    <tr>\n",
       "      <th>2</th>\n",
       "      <td>3</td>\n",
       "      <td>5.2</td>\n",
       "    </tr>\n",
       "    <tr>\n",
       "      <th>3</th>\n",
       "      <td>4</td>\n",
       "      <td>9.1</td>\n",
       "    </tr>\n",
       "    <tr>\n",
       "      <th>4</th>\n",
       "      <td>5</td>\n",
       "      <td>7.0</td>\n",
       "    </tr>\n",
       "    <tr>\n",
       "      <th>5</th>\n",
       "      <td>6</td>\n",
       "      <td>5.1</td>\n",
       "    </tr>\n",
       "    <tr>\n",
       "      <th>6</th>\n",
       "      <td>7</td>\n",
       "      <td>6.0</td>\n",
       "    </tr>\n",
       "    <tr>\n",
       "      <th>7</th>\n",
       "      <td>8</td>\n",
       "      <td>10.2</td>\n",
       "    </tr>\n",
       "    <tr>\n",
       "      <th>8</th>\n",
       "      <td>9</td>\n",
       "      <td>8.2</td>\n",
       "    </tr>\n",
       "    <tr>\n",
       "      <th>9</th>\n",
       "      <td>10</td>\n",
       "      <td>5.6</td>\n",
       "    </tr>\n",
       "    <tr>\n",
       "      <th>10</th>\n",
       "      <td>11</td>\n",
       "      <td>6.4</td>\n",
       "    </tr>\n",
       "    <tr>\n",
       "      <th>11</th>\n",
       "      <td>12</td>\n",
       "      <td>10.8</td>\n",
       "    </tr>\n",
       "    <tr>\n",
       "      <th>12</th>\n",
       "      <td>13</td>\n",
       "      <td>9.1</td>\n",
       "    </tr>\n",
       "    <tr>\n",
       "      <th>13</th>\n",
       "      <td>14</td>\n",
       "      <td>6.7</td>\n",
       "    </tr>\n",
       "    <tr>\n",
       "      <th>14</th>\n",
       "      <td>15</td>\n",
       "      <td>7.5</td>\n",
       "    </tr>\n",
       "    <tr>\n",
       "      <th>15</th>\n",
       "      <td>16</td>\n",
       "      <td>11.3</td>\n",
       "    </tr>\n",
       "  </tbody>\n",
       "</table>\n",
       "</div>"
      ],
      "text/plain": [
       "     t    yt\n",
       "0    1   5.6\n",
       "1    2   4.7\n",
       "2    3   5.2\n",
       "3    4   9.1\n",
       "4    5   7.0\n",
       "5    6   5.1\n",
       "6    7   6.0\n",
       "7    8  10.2\n",
       "8    9   8.2\n",
       "9   10   5.6\n",
       "10  11   6.4\n",
       "11  12  10.8\n",
       "12  13   9.1\n",
       "13  14   6.7\n",
       "14  15   7.5\n",
       "15  16  11.3"
      ]
     },
     "execution_count": 26,
     "metadata": {},
     "output_type": "execute_result"
    }
   ],
   "source": [
    "# Рандомный\n",
    "df = pd.read_csv('data2.csv', sep=';')\n",
    "df"
   ]
  },
  {
   "cell_type": "code",
   "execution_count": 27,
   "metadata": {},
   "outputs": [],
   "source": [
    "df = pd.read_csv('data.csv', sep=';')"
   ]
  },
  {
   "cell_type": "markdown",
   "metadata": {},
   "source": [
    "### Скользящее среднее\n",
    "Возьмем интервал равный 3\n",
    "где вес будет годом(пусть и не логично), объем это с.в"
   ]
  },
  {
   "cell_type": "code",
   "execution_count": 28,
   "metadata": {},
   "outputs": [],
   "source": [
    "WWMA = pd.DataFrame.from_dict({'t':[],'value':[]})"
   ]
  },
  {
   "cell_type": "code",
   "execution_count": 29,
   "metadata": {},
   "outputs": [],
   "source": [
    "t=[i for i in range(3,len(df)+1)]\n",
    "value = []\n",
    "for i in t:\n",
    "    value.append(\n",
    "        np.sum(\n",
    "            np.multiply(df['Год'][i-3:i],df['Объем'][i-3:i])\n",
    "        )/np.sum(df['Год'][i-3:i]))\n",
    "WWMA['t']=t\n",
    "WWMA['value']=value                "
   ]
  },
  {
   "cell_type": "code",
   "execution_count": 30,
   "metadata": {},
   "outputs": [
    {
     "data": {
      "image/png": "[encoded data removed]",
      "text/plain": [
       "<Figure size 432x288 with 1 Axes>"
      ]
     },
     "metadata": {},
     "output_type": "display_data"
    }
   ],
   "source": [
    "wwma_ax = plt.subplot(111)\n",
    "plt.plot(df['t'],df['Объем'],label='data')\n",
    "plt.plot(WWMA['t'],WWMA['value'],label='WWMA')\n",
    "leg = plt.legend(loc='upper left', ncol=2, shadow=True, fancybox=True)\n",
    "plt.show()"
   ]
  },
  {
   "cell_type": "markdown",
   "metadata": {},
   "source": [
    "### Простое скользящее среднее\n",
    "Возьмем интервал равный 3\n",
    "объем это с.в"
   ]
  },
  {
   "cell_type": "code",
   "execution_count": 31,
   "metadata": {},
   "outputs": [
    {
     "data": {
      "image/png": "[encoded data removed]",
      "text/plain": [
       "<Figure size 432x288 with 1 Axes>"
      ]
     },
     "metadata": {},
     "output_type": "display_data"
    }
   ],
   "source": [
    "SMA = pd.DataFrame.from_dict({'t':[],'value':[]})\n",
    "t=[i for i in range(3,len(df)+1)]\n",
    "value = []\n",
    "for i in t:\n",
    "    value.append(np.sum(df['Объем'][i-3:i])/3)\n",
    "SMA['t']=t\n",
    "SMA['value']=value  \n",
    "sma_ax = plt.subplot(111)\n",
    "plt.plot(df['t'],df['Объем'],label='data')\n",
    "plt.plot(SMA['t'],SMA['value'],label='SMA')\n",
    "leg = plt.legend(loc='upper left', ncol=2, shadow=True, fancybox=True)\n",
    "plt.show()"
   ]
  },
  {
   "cell_type": "markdown",
   "metadata": {
    "slideshow": {
     "slide_type": "-"
    }
   },
   "source": [
    "### Экспоненциальное скользящее среднее\n",
    "Возьмем интервал равный 3<br>\n",
    "объем это с.в, alf = 2/4=0.5<br>\n",
    "EMA начальное это SMA, t=3"
   ]
  },
  {
   "cell_type": "code",
   "execution_count": 32,
   "metadata": {},
   "outputs": [
    {
     "data": {
      "image/png": "[encoded data removed]",
      "text/plain": [
       "<Figure size 432x288 with 1 Axes>"
      ]
     },
     "metadata": {},
     "output_type": "display_data"
    }
   ],
   "source": [
    "EMA = pd.DataFrame.from_dict({'t':[],'value':[]})\n",
    "t=[i for i in range(3,len(df)+1)]\n",
    "value = [SMA['value'][0]]\n",
    "alf=0.5\n",
    "for i in t[1:]:\n",
    "    value.append(alf*df['Объем'][i-1]+(1-alf)*value[-1])\n",
    "EMA['t']=t\n",
    "EMA['value']=value  \n",
    "ema_ax = plt.subplot(111)\n",
    "plt.plot(df['t'],df['Объем'],label='data')\n",
    "plt.plot(EMA['t'],EMA['value'],label='EMA')\n",
    "leg = plt.legend(loc='upper left', ncol=2, shadow=True, fancybox=True)\n",
    "plt.show()"
   ]
  },
  {
   "cell_type": "markdown",
   "metadata": {},
   "source": [
    "### Взвешенное скользящее среднее\n",
    "Возьмем интервал равный 3<br>\n",
    "объем это с.в"
   ]
  },
  {
   "cell_type": "code",
   "execution_count": 33,
   "metadata": {},
   "outputs": [
    {
     "data": {
      "image/png": "[encoded data removed]",
      "text/plain": [
       "<Figure size 432x288 with 1 Axes>"
      ]
     },
     "metadata": {},
     "output_type": "display_data"
    }
   ],
   "source": [
    "WMA = pd.DataFrame.from_dict({'t':[],'value':[]})\n",
    "t=[i for i in range(3,len(df)+1)]\n",
    "value = []\n",
    "n_arr = np.array([i+1 for i in range(3)])\n",
    "for i in t:\n",
    "    value.append(\n",
    "        2*np.sum(\n",
    "            np.multiply(n_arr,df['Объем'][i-3:i])\n",
    "        )/3/4)\n",
    "WMA['t']=t\n",
    "WMA['value']=value  \n",
    "wma_ax = plt.subplot(111)\n",
    "plt.plot(df['t'],df['Объем'],label='data')\n",
    "plt.plot(WMA['t'],WMA['value'],label='WMA')\n",
    "leg = plt.legend(loc='upper left', ncol=2, shadow=True, fancybox=True)\n",
    "plt.show()"
   ]
  },
  {
   "cell_type": "markdown",
   "metadata": {},
   "source": [
    "## Автокорреляция"
   ]
  },
  {
   "cell_type": "code",
   "execution_count": 34,
   "metadata": {},
   "outputs": [
    {
     "data": {
      "text/html": [
       "<div>\n",
       "<style scoped>\n",
       "    .dataframe tbody tr th:only-of-type {\n",
       "        vertical-align: middle;\n",
       "    }\n",
       "\n",
       "    .dataframe tbody tr th {\n",
       "        vertical-align: top;\n",
       "    }\n",
       "\n",
       "    .dataframe thead th {\n",
       "        text-align: right;\n",
       "    }\n",
       "</style>\n",
       "<table border=\"1\" class=\"dataframe\">\n",
       "  <thead>\n",
       "    <tr style=\"text-align: right;\">\n",
       "      <th></th>\n",
       "      <th>t</th>\n",
       "      <th>yt</th>\n",
       "    </tr>\n",
       "  </thead>\n",
       "  <tbody>\n",
       "    <tr>\n",
       "      <th>0</th>\n",
       "      <td>1</td>\n",
       "      <td>5.6</td>\n",
       "    </tr>\n",
       "    <tr>\n",
       "      <th>1</th>\n",
       "      <td>2</td>\n",
       "      <td>4.7</td>\n",
       "    </tr>\n",
       "    <tr>\n",
       "      <th>2</th>\n",
       "      <td>3</td>\n",
       "      <td>5.2</td>\n",
       "    </tr>\n",
       "    <tr>\n",
       "      <th>3</th>\n",
       "      <td>4</td>\n",
       "      <td>9.1</td>\n",
       "    </tr>\n",
       "    <tr>\n",
       "      <th>4</th>\n",
       "      <td>5</td>\n",
       "      <td>7.0</td>\n",
       "    </tr>\n",
       "    <tr>\n",
       "      <th>5</th>\n",
       "      <td>6</td>\n",
       "      <td>5.1</td>\n",
       "    </tr>\n",
       "    <tr>\n",
       "      <th>6</th>\n",
       "      <td>7</td>\n",
       "      <td>6.0</td>\n",
       "    </tr>\n",
       "    <tr>\n",
       "      <th>7</th>\n",
       "      <td>8</td>\n",
       "      <td>10.2</td>\n",
       "    </tr>\n",
       "    <tr>\n",
       "      <th>8</th>\n",
       "      <td>9</td>\n",
       "      <td>8.2</td>\n",
       "    </tr>\n",
       "    <tr>\n",
       "      <th>9</th>\n",
       "      <td>10</td>\n",
       "      <td>5.6</td>\n",
       "    </tr>\n",
       "    <tr>\n",
       "      <th>10</th>\n",
       "      <td>11</td>\n",
       "      <td>6.4</td>\n",
       "    </tr>\n",
       "    <tr>\n",
       "      <th>11</th>\n",
       "      <td>12</td>\n",
       "      <td>10.8</td>\n",
       "    </tr>\n",
       "    <tr>\n",
       "      <th>12</th>\n",
       "      <td>13</td>\n",
       "      <td>9.1</td>\n",
       "    </tr>\n",
       "    <tr>\n",
       "      <th>13</th>\n",
       "      <td>14</td>\n",
       "      <td>6.7</td>\n",
       "    </tr>\n",
       "    <tr>\n",
       "      <th>14</th>\n",
       "      <td>15</td>\n",
       "      <td>7.5</td>\n",
       "    </tr>\n",
       "    <tr>\n",
       "      <th>15</th>\n",
       "      <td>16</td>\n",
       "      <td>11.3</td>\n",
       "    </tr>\n",
       "  </tbody>\n",
       "</table>\n",
       "</div>"
      ],
      "text/plain": [
       "     t    yt\n",
       "0    1   5.6\n",
       "1    2   4.7\n",
       "2    3   5.2\n",
       "3    4   9.1\n",
       "4    5   7.0\n",
       "5    6   5.1\n",
       "6    7   6.0\n",
       "7    8  10.2\n",
       "8    9   8.2\n",
       "9   10   5.6\n",
       "10  11   6.4\n",
       "11  12  10.8\n",
       "12  13   9.1\n",
       "13  14   6.7\n",
       "14  15   7.5\n",
       "15  16  11.3"
      ]
     },
     "execution_count": 34,
     "metadata": {},
     "output_type": "execute_result"
    }
   ],
   "source": [
    "df = pd.read_csv('data2.csv', sep=';')\n",
    "df"
   ]
  },
  {
   "cell_type": "code",
   "execution_count": 35,
   "metadata": {},
   "outputs": [
    {
     "name": "stdout",
     "output_type": "stream",
     "text": [
      "Свое\n"
     ]
    },
    {
     "data": {
      "image/png": "[encoded data removed]",
      "text/plain": [
       "<Figure size 432x288 with 1 Axes>"
      ]
     },
     "metadata": {},
     "output_type": "display_data"
    },
    {
     "data": {
      "text/html": [
       "<div>\n",
       "<style scoped>\n",
       "    .dataframe tbody tr th:only-of-type {\n",
       "        vertical-align: middle;\n",
       "    }\n",
       "\n",
       "    .dataframe tbody tr th {\n",
       "        vertical-align: top;\n",
       "    }\n",
       "\n",
       "    .dataframe thead th {\n",
       "        text-align: right;\n",
       "    }\n",
       "</style>\n",
       "<table border=\"1\" class=\"dataframe\">\n",
       "  <thead>\n",
       "    <tr style=\"text-align: right;\">\n",
       "      <th></th>\n",
       "      <th>t</th>\n",
       "      <th>log</th>\n",
       "    </tr>\n",
       "  </thead>\n",
       "  <tbody>\n",
       "    <tr>\n",
       "      <th>0</th>\n",
       "      <td>1</td>\n",
       "      <td>0.191700</td>\n",
       "    </tr>\n",
       "    <tr>\n",
       "      <th>1</th>\n",
       "      <td>2</td>\n",
       "      <td>-0.514934</td>\n",
       "    </tr>\n",
       "    <tr>\n",
       "      <th>2</th>\n",
       "      <td>3</td>\n",
       "      <td>0.127183</td>\n",
       "    </tr>\n",
       "    <tr>\n",
       "      <th>3</th>\n",
       "      <td>4</td>\n",
       "      <td>0.986192</td>\n",
       "    </tr>\n",
       "    <tr>\n",
       "      <th>4</th>\n",
       "      <td>5</td>\n",
       "      <td>0.144815</td>\n",
       "    </tr>\n",
       "    <tr>\n",
       "      <th>5</th>\n",
       "      <td>6</td>\n",
       "      <td>-0.648683</td>\n",
       "    </tr>\n",
       "    <tr>\n",
       "      <th>6</th>\n",
       "      <td>7</td>\n",
       "      <td>-0.006472</td>\n",
       "    </tr>\n",
       "  </tbody>\n",
       "</table>\n",
       "</div>"
      ],
      "text/plain": [
       "   t       log\n",
       "0  1  0.191700\n",
       "1  2 -0.514934\n",
       "2  3  0.127183\n",
       "3  4  0.986192\n",
       "4  5  0.144815\n",
       "5  6 -0.648683\n",
       "6  7 -0.006472"
      ]
     },
     "execution_count": 35,
     "metadata": {},
     "output_type": "execute_result"
    }
   ],
   "source": [
    "cor = pd.DataFrame.from_dict({'t':[],'log':[]})\n",
    "t,value=[],[]\n",
    "n=len(df)\n",
    "for i in range(1,n//2):\n",
    "    t.append(i)\n",
    "    m1 = np.mean(df['yt'][i:])\n",
    "    m2 = np.mean(df['yt'][:n-i])\n",
    "    r1 = np.array(df['yt'][i:]-m1)\n",
    "    r2 = np.array(df['yt'][:n-i]-m2)\n",
    "    value.append(np.sum(r1*r2)/np.sqrt(np.sum(r1*r1)*np.sum(r2*r2)))\n",
    "cor['t']=t\n",
    "cor['log']=value\n",
    "print('Свое')\n",
    "ax = plt.gca()\n",
    "ax.stem(cor['log']/cor['log'].max())\n",
    "plt.show()\n",
    "cor"
   ]
  },
  {
   "cell_type": "markdown",
   "metadata": {},
   "source": [
    "## Критерий Ирвина"
   ]
  },
  {
   "cell_type": "code",
   "execution_count": 36,
   "metadata": {},
   "outputs": [
    {
     "data": {
      "text/html": [
       "<div>\n",
       "<style scoped>\n",
       "    .dataframe tbody tr th:only-of-type {\n",
       "        vertical-align: middle;\n",
       "    }\n",
       "\n",
       "    .dataframe tbody tr th {\n",
       "        vertical-align: top;\n",
       "    }\n",
       "\n",
       "    .dataframe thead th {\n",
       "        text-align: right;\n",
       "    }\n",
       "</style>\n",
       "<table border=\"1\" class=\"dataframe\">\n",
       "  <thead>\n",
       "    <tr style=\"text-align: right;\">\n",
       "      <th></th>\n",
       "      <th>t</th>\n",
       "      <th>lambda</th>\n",
       "    </tr>\n",
       "  </thead>\n",
       "  <tbody>\n",
       "    <tr>\n",
       "      <th>0</th>\n",
       "      <td>1</td>\n",
       "      <td>2.059329</td>\n",
       "    </tr>\n",
       "    <tr>\n",
       "      <th>1</th>\n",
       "      <td>2</td>\n",
       "      <td>3.432216</td>\n",
       "    </tr>\n",
       "    <tr>\n",
       "      <th>2</th>\n",
       "      <td>3</td>\n",
       "      <td>0.686443</td>\n",
       "    </tr>\n",
       "    <tr>\n",
       "      <th>3</th>\n",
       "      <td>4</td>\n",
       "      <td>0.343222</td>\n",
       "    </tr>\n",
       "    <tr>\n",
       "      <th>4</th>\n",
       "      <td>5</td>\n",
       "      <td>1.029665</td>\n",
       "    </tr>\n",
       "    <tr>\n",
       "      <th>5</th>\n",
       "      <td>6</td>\n",
       "      <td>0.686443</td>\n",
       "    </tr>\n",
       "    <tr>\n",
       "      <th>6</th>\n",
       "      <td>7</td>\n",
       "      <td>0.343222</td>\n",
       "    </tr>\n",
       "    <tr>\n",
       "      <th>7</th>\n",
       "      <td>8</td>\n",
       "      <td>0.000000</td>\n",
       "    </tr>\n",
       "    <tr>\n",
       "      <th>8</th>\n",
       "      <td>9</td>\n",
       "      <td>0.686443</td>\n",
       "    </tr>\n",
       "  </tbody>\n",
       "</table>\n",
       "</div>"
      ],
      "text/plain": [
       "   t    lambda\n",
       "0  1  2.059329\n",
       "1  2  3.432216\n",
       "2  3  0.686443\n",
       "3  4  0.343222\n",
       "4  5  1.029665\n",
       "5  6  0.686443\n",
       "6  7  0.343222\n",
       "7  8  0.000000\n",
       "8  9  0.686443"
      ]
     },
     "execution_count": 36,
     "metadata": {},
     "output_type": "execute_result"
    }
   ],
   "source": [
    "irv = pd.DataFrame.from_dict({'t':[],'lambda':[]})\n",
    "y = np.array([50,56,46,48,49,46,48,47,47,49])\n",
    "t=[]\n",
    "value = []\n",
    "std_y = np.sqrt(np.sum((y-y.mean())**2)/(len(y)-1))\n",
    "for i in range(1,len(y)):\n",
    "    t.append(i)\n",
    "    value.append(np.fabs(y[i]-y[i-1])/std_y)\n",
    "irv['t']=t\n",
    "irv['lambda']=value\n",
    "irv"
   ]
  },
  {
   "cell_type": "markdown",
   "metadata": {},
   "source": [
    "#### Видим что 1 и 2 не подходят"
   ]
  },
  {
   "cell_type": "markdown",
   "metadata": {},
   "source": [
    "## Метод Серий На медиане\n",
    "Используем 1 датасет уровень значимости 0.5"
   ]
  },
  {
   "cell_type": "code",
   "execution_count": 37,
   "metadata": {},
   "outputs": [],
   "source": [
    "def have_trend(ser):\n",
    "    n=len(ser)\n",
    "    vn=1\n",
    "    r_max=1\n",
    "    t = ser[0]\n",
    "    cur_len=1\n",
    "    for i in ser[1:]:\n",
    "        if t == i:\n",
    "            cur_len+=1\n",
    "        else:\n",
    "            vn+=1\n",
    "            t=i\n",
    "            r_max = max(cur_len,r_max)\n",
    "            cur_len=1\n",
    "    if r_max>int(3.3*(np.log10(n)+1)) and vn<int((n+1-1.96*np.sqrt(n-1))/2):\n",
    "        return 'Trend exist'\n",
    "    return 'Trend not exist'"
   ]
  },
  {
   "cell_type": "code",
   "execution_count": 38,
   "metadata": {},
   "outputs": [
    {
     "data": {
      "text/plain": [
       "'Trend exist'"
      ]
     },
     "execution_count": 38,
     "metadata": {},
     "output_type": "execute_result"
    }
   ],
   "source": [
    "df = pd.read_csv('data.csv', sep=';')\n",
    "ser = []\n",
    "median = df['Объем'].median()\n",
    "for i in range(len(df)):\n",
    "    ser.append(df['Объем'][i]>median)\n",
    "have_trend(ser)"
   ]
  },
  {
   "cell_type": "markdown",
   "metadata": {},
   "source": [
    "Видим что тренд существует<br>\n",
    "Прмиер два"
   ]
  },
  {
   "cell_type": "code",
   "execution_count": 39,
   "metadata": {},
   "outputs": [
    {
     "data": {
      "text/plain": [
       "'Trend not exist'"
      ]
     },
     "execution_count": 39,
     "metadata": {},
     "output_type": "execute_result"
    }
   ],
   "source": [
    "df = pd.read_csv('data2.csv', sep=';')\n",
    "ser = []\n",
    "median = df['yt'].median()\n",
    "for i in range(len(df)):\n",
    "    ser.append(df['yt'][i]>median)\n",
    "have_trend(ser)"
   ]
  },
  {
   "cell_type": "markdown",
   "metadata": {},
   "source": [
    "Эти даныне были просто наугад у них тренда как и ожидалось нет"
   ]
  },
  {
   "cell_type": "markdown",
   "metadata": {},
   "source": [
    "## Критерий восходящих и нисходящих серий \n",
    "Используем 1 датасет уровень значимости 0.5"
   ]
  },
  {
   "cell_type": "code",
   "execution_count": 40,
   "metadata": {},
   "outputs": [],
   "source": [
    "def have_trend(ser):\n",
    "    n=len(ser)\n",
    "    vn=1\n",
    "    r_max=1\n",
    "    t = ser[0]\n",
    "    cur_len=1\n",
    "    for i in ser[1:]:\n",
    "        if t == i:\n",
    "            cur_len+=1\n",
    "        else:\n",
    "            vn+=1\n",
    "            t=i\n",
    "            r_max = max(cur_len,r_max)\n",
    "            cur_len=1\n",
    "    k0 = 5\n",
    "    if n>26 and n<=153:\n",
    "        k0=6\n",
    "    elif n>153 and n<=1170:\n",
    "        k0=7\n",
    "    print(n,ser,r_max,k0,vn,int((2*n-1)/3-1.96*np.sqrt((16*n-29)/90)))\n",
    "    if r_max<k0 and vn>int((2*n-1)/3-1.96*np.sqrt((16*n-29)/90)):\n",
    "        return 'Trend not exist'\n",
    "    return 'Trend exist'"
   ]
  },
  {
   "cell_type": "code",
   "execution_count": 41,
   "metadata": {},
   "outputs": [
    {
     "name": "stdout",
     "output_type": "stream",
     "text": [
      "15 [True, True, False, True, True, True, True, True, True, True, True, True, False, False, True] 9 5 5 6\n"
     ]
    },
    {
     "data": {
      "text/plain": [
       "'Trend exist'"
      ]
     },
     "execution_count": 41,
     "metadata": {},
     "output_type": "execute_result"
    }
   ],
   "source": [
    "# Первый датасет реальный\n",
    "df = pd.read_csv('data.csv', sep=';')\n",
    "ser = []\n",
    "for i in range(len(df)-1):\n",
    "    if df['Объем'][i+1]-df['Объем'][i]>0:\n",
    "        ser.append(True)\n",
    "    elif df['Объем'][i+1]-df['Объем'][i]<0:\n",
    "        ser.append(False)\n",
    "    else:\n",
    "        ser.append(df['Объем'][i]>0)\n",
    "ser.append(df['Объем'][len(df)-1]>0)\n",
    "have_trend(ser)"
   ]
  },
  {
   "cell_type": "code",
   "execution_count": 42,
   "metadata": {},
   "outputs": [
    {
     "name": "stdout",
     "output_type": "stream",
     "text": [
      "16 [False, True, True, False, False, True, True, False, False, True, True, False, False, True, True, True] 2 5 8 7\n"
     ]
    },
    {
     "data": {
      "text/plain": [
       "'Trend not exist'"
      ]
     },
     "execution_count": 42,
     "metadata": {},
     "output_type": "execute_result"
    }
   ],
   "source": [
    "# Второй датасет нереальный\n",
    "df = pd.read_csv('data2.csv', sep=';')\n",
    "ser = []\n",
    "for i in range(len(df)-1):\n",
    "    if df['yt'][i+1]-df['yt'][i]>0:\n",
    "        ser.append(True)\n",
    "    elif df['yt'][i+1]-df['yt'][i]<0:\n",
    "        ser.append(False)\n",
    "    else:\n",
    "        ser.append(df['yt'][i]>0)\n",
    "ser.append(df['yt'][len(df)-1]>0)\n",
    "have_trend(ser)"
   ]
  },
  {
   "cell_type": "markdown",
   "metadata": {},
   "source": [
    "## Првоерка тренда с помощью Критерия стьюдента\n",
    "коэффиценты брал отсюда\n",
    "alf =0.05\n",
    "http://univer-nn.ru/econometrica/Fisher-Student-table.pdf"
   ]
  },
  {
   "cell_type": "code",
   "execution_count": 43,
   "metadata": {},
   "outputs": [],
   "source": [
    "df= pd.read_csv('data.csv', sep=';')\n",
    "# Разделил на примерно равные части\n",
    "y1,y2 = np.array(df['Объем'][:8]),np.array(df['Объем'][8:])\n",
    "n1,n2=len(y1),len(y2)\n",
    "y1_mean,y2_mean = np.mean(y1),np.mean(y2)\n",
    "y1_std = np.sum((y1-y1_mean)**2)/(n1-1)\n",
    "y2_std = np.sum((y2-y2_mean)**2)/(n2-1)"
   ]
  },
  {
   "cell_type": "code",
   "execution_count": 44,
   "metadata": {},
   "outputs": [],
   "source": [
    "F_cr = 3.73\n",
    "T_cr = 2.13"
   ]
  },
  {
   "cell_type": "code",
   "execution_count": 45,
   "metadata": {},
   "outputs": [
    {
     "name": "stdout",
     "output_type": "stream",
     "text": [
      "H0 не отвергаем идем далее\n"
     ]
    }
   ],
   "source": [
    "F_emp = y2_std/y1_std\n",
    "if F_emp<F_cr:\n",
    "    print('H0 не отвергаем идем далее')\n",
    "else:\n",
    "    print('H0 не принмиаем конец')"
   ]
  },
  {
   "cell_type": "code",
   "execution_count": 46,
   "metadata": {},
   "outputs": [
    {
     "name": "stdout",
     "output_type": "stream",
     "text": [
      "Тренд есть \n"
     ]
    }
   ],
   "source": [
    "T_emp = np.fabs(y1_mean-y2_mean)\n",
    "T_emp/=np.sqrt((n1-1)*y1_std+\n",
    "               (n2-1)*y2_std)\n",
    "T_emp*=np.sqrt(n1*n2*(n1+n2-2)/(n1+n2))\n",
    "if T_emp <T_cr:\n",
    "    print('''Тренда нет ''')\n",
    "else:\n",
    "    print('''Тренд есть ''')"
   ]
  },
  {
   "cell_type": "code",
   "execution_count": null,
   "metadata": {},
   "outputs": [],
   "source": []
  }
 ],
 "metadata": {
  "kernelspec": {
   "display_name": "Python 3",
   "language": "python",
   "name": "python3"
  },
  "language_info": {
   "codemirror_mode": {
    "name": "ipython",
    "version": 3
   },
   "file_extension": ".py",
   "mimetype": "text/x-python",
   "name": "python",
   "nbconvert_exporter": "python",
   "pygments_lexer": "ipython3",
   "version": "3.6.5"
  }
 },
 "nbformat": 4,
 "nbformat_minor": 2
}
